{
 "cells": [
  {
   "cell_type": "markdown",
   "metadata": {},
   "source": [
    "<font color='yellow' size=6></b>Parsing Member Transactions</b></font><br>\n",
    "This notebook contains code snippets to assist in getting started parsing Member Transactions"
   ]
  },
  {
   "cell_type": "code",
   "execution_count": 1,
   "metadata": {},
   "outputs": [],
   "source": [
    "import re \n",
    "import pandas as pd"
   ]
  },
  {
   "cell_type": "code",
   "execution_count": 2,
   "metadata": {},
   "outputs": [],
   "source": [
    "card_tx = pd.read_csv('data/sample_card_comments.csv')"
   ]
  },
  {
   "cell_type": "code",
   "execution_count": 4,
   "metadata": {},
   "outputs": [
    {
     "data": {
      "text/plain": [
       "array(['2024-02-11 $9.82 || industrial motor & controls - west chester, ohio, united states #1417 ||% MCC 3348',\n",
       "       '2024-01-25 $258.75 || mayfield & associates - solana beach, california, united states #6649 ||% MCC 4709',\n",
       "       '2024-01-24 $181.51 || burdett metalsmithing & design - broomfield, colorado, united states #1004 ||% MCC 2437',\n",
       "       '2024-02-16 $52.26 || the catalyst agency llc - odessa, florida, united states #1184 ||% MCC 1949',\n",
       "       '2024-02-23 $144.80 || wisconsin turf equipment corp - new berlin, wisconsin, united states #3438 ||% MCC 5493',\n",
       "       '2024-03-04 $227.94 || service electrical contractors, inc. - flushing, new york, united states #9451 ||% MCC 3643',\n",
       "       '2024-02-08 $161.62 || wood technology center - nan #8670 ||% MCC 1144',\n",
       "       '2024-02-22 $107.51 || ite @ umsl (innovative technology enterprises) - st. louis, missouri, united states #5345 ||% MCC 4429',\n",
       "       '2024-03-16 $170.74 || ik solutions inc - newark, delaware, united states #4531 ||% MCC 2917',\n",
       "       '2024-02-27 $338.23 || tre native - atlanta, georgia, united states #1737 ||% MCC 5317'],\n",
       "      dtype=object)"
      ]
     },
     "execution_count": 4,
     "metadata": {},
     "output_type": "execute_result"
    }
   ],
   "source": [
    "card_tx['Comments'].values[:10]"
   ]
  },
  {
   "cell_type": "code",
   "execution_count": 21,
   "metadata": {},
   "outputs": [],
   "source": [
    "# ach_tx['Comments'].values[:10]"
   ]
  },
  {
   "cell_type": "markdown",
   "metadata": {},
   "source": [
    "<font color='yellow' size=5>Extract Card Merchant</font>"
   ]
  },
  {
   "cell_type": "code",
   "execution_count": 6,
   "metadata": {},
   "outputs": [],
   "source": [
    "def get_merchant_name(row):\n",
    "    \"\"\"\n",
    "    Extract merchant's name from debit and credit card comments string.\n",
    "    \"\"\"\n",
    "    merchant_name = re.search('\\|\\s.*\\s-', row['Comments']).group(0)\n",
    "    # Clean merchant name\n",
    "    merchant_name = merchant_name.replace('| ', '') # remove pipes\n",
    "    merchant_name = merchant_name.replace(' -', '') # remove dashes\n",
    "    return merchant_name.strip() # remove whitespace"
   ]
  },
  {
   "cell_type": "code",
   "execution_count": 7,
   "metadata": {},
   "outputs": [],
   "source": [
    "card_merchants = card_tx.apply(get_merchant_name, axis=1)"
   ]
  },
  {
   "cell_type": "code",
   "execution_count": 8,
   "metadata": {},
   "outputs": [
    {
     "data": {
      "text/plain": [
       "array(['industrial motor & controls', 'mayfield & associates',\n",
       "       'burdett metalsmithing & design', 'the catalyst agency llc',\n",
       "       'wisconsin turf equipment corp',\n",
       "       'service electrical contractors, inc.', 'wood technology center',\n",
       "       'ite @ umsl (innovative technology enterprises)',\n",
       "       'ik solutions inc', 'tre native', 'chisholm exploration inc',\n",
       "       'strategic business advisers', 'cosmetic procedures center',\n",
       "       'summit childrens program inc', 'doris italian market & bakery',\n",
       "       'railworks track systems inc',\n",
       "       'cascade fresh cleaning services, llc', 'marsol technologies inc',\n",
       "       'bryn athyn cathedral', 'k & d krueger farms & sons',\n",
       "       'riverstone advisors, llc', 'champion graphics',\n",
       "       'hotel st augustine', 'mona fashion', 'western flyer delivery'],\n",
       "      dtype=object)"
      ]
     },
     "execution_count": 8,
     "metadata": {},
     "output_type": "execute_result"
    }
   ],
   "source": [
    "card_merchants.values[:25]"
   ]
  },
  {
   "cell_type": "markdown",
   "metadata": {},
   "source": [
    "<font color='yellow' size=5>Extract Merchant Category Code</font>"
   ]
  },
  {
   "cell_type": "code",
   "execution_count": 18,
   "metadata": {},
   "outputs": [],
   "source": [
    "def get_merchant_category_code(row):\n",
    "    \"\"\"\n",
    "    Extract merchant's name from debit and credit card comments string.\n",
    "    \"\"\"\n",
    "    mcc_code = re.search('\\|%\\sMCC\\s\\d{4}', row['Comments']).group(0)\n",
    "    # Clean merchant name\n",
    "    mcc_code = mcc_code.replace('|% MCC ', '') # remove pipes\n",
    "    return int(mcc_code.strip()) # remove whitespace + convert to integer"
   ]
  },
  {
   "cell_type": "code",
   "execution_count": 19,
   "metadata": {},
   "outputs": [],
   "source": [
    "mcc_codes = card_tx.apply(get_merchant_category_code, axis=1)"
   ]
  },
  {
   "cell_type": "code",
   "execution_count": 20,
   "metadata": {},
   "outputs": [
    {
     "data": {
      "text/plain": [
       "array([3348, 4709, 2437, 1949, 5493, 3643, 1144, 4429, 2917, 5317, 2326,\n",
       "       5529, 1067, 2210, 1184, 5119, 4984, 5082, 4827, 1758, 4015, 1816,\n",
       "       1220, 1202, 1225], dtype=int64)"
      ]
     },
     "execution_count": 20,
     "metadata": {},
     "output_type": "execute_result"
    }
   ],
   "source": [
    "mcc_codes.values[:25]"
   ]
  },
  {
   "cell_type": "markdown",
   "metadata": {},
   "source": [
    "<font color='yellow' size=5>Extract Merchant Location</font>"
   ]
  },
  {
   "cell_type": "code",
   "execution_count": 46,
   "metadata": {},
   "outputs": [],
   "source": [
    "def get_transaction_location(row):\n",
    "    \"\"\"\n",
    "    Extract merchant location into an array of city, state, country.\n",
    "    \"\"\"\n",
    "    tx_location = re.search('-\\s.*,\\s.*,\\sunited\\sstates\\s#\\d{4}', row['Comments']).group(0) # NOTE: limited to transactions in United States\n",
    "    tx_location = tx_location.replace('- ', '') # remove leading dash via string replacement\n",
    "    tx_location = re.sub('\\s#\\d{4}', '', tx_location) # remove last 4 of card via RegEx replacement\n",
    "    return {key: value for key, value in zip(['city', 'state', 'country'], tx_location.split(', '))}"
   ]
  },
  {
   "cell_type": "code",
   "execution_count": 47,
   "metadata": {},
   "outputs": [
    {
     "data": {
      "text/html": [
       "<div>\n",
       "<style scoped>\n",
       "    .dataframe tbody tr th:only-of-type {\n",
       "        vertical-align: middle;\n",
       "    }\n",
       "\n",
       "    .dataframe tbody tr th {\n",
       "        vertical-align: top;\n",
       "    }\n",
       "\n",
       "    .dataframe thead th {\n",
       "        text-align: right;\n",
       "    }\n",
       "</style>\n",
       "<table border=\"1\" class=\"dataframe\">\n",
       "  <thead>\n",
       "    <tr style=\"text-align: right;\">\n",
       "      <th></th>\n",
       "      <th>city</th>\n",
       "      <th>state</th>\n",
       "      <th>country</th>\n",
       "    </tr>\n",
       "  </thead>\n",
       "  <tbody>\n",
       "    <tr>\n",
       "      <th>0</th>\n",
       "      <td>west chester</td>\n",
       "      <td>ohio</td>\n",
       "      <td>united states</td>\n",
       "    </tr>\n",
       "    <tr>\n",
       "      <th>1</th>\n",
       "      <td>solana beach</td>\n",
       "      <td>california</td>\n",
       "      <td>united states</td>\n",
       "    </tr>\n",
       "    <tr>\n",
       "      <th>2</th>\n",
       "      <td>broomfield</td>\n",
       "      <td>colorado</td>\n",
       "      <td>united states</td>\n",
       "    </tr>\n",
       "    <tr>\n",
       "      <th>3</th>\n",
       "      <td>odessa</td>\n",
       "      <td>florida</td>\n",
       "      <td>united states</td>\n",
       "    </tr>\n",
       "    <tr>\n",
       "      <th>4</th>\n",
       "      <td>new berlin</td>\n",
       "      <td>wisconsin</td>\n",
       "      <td>united states</td>\n",
       "    </tr>\n",
       "  </tbody>\n",
       "</table>\n",
       "</div>"
      ],
      "text/plain": [
       "           city       state        country\n",
       "0  west chester        ohio  united states\n",
       "1  solana beach  california  united states\n",
       "2    broomfield    colorado  united states\n",
       "3        odessa     florida  united states\n",
       "4    new berlin   wisconsin  united states"
      ]
     },
     "execution_count": 47,
     "metadata": {},
     "output_type": "execute_result"
    }
   ],
   "source": [
    "pd.DataFrame(card_tx.head().apply(get_transaction_location, axis=1).tolist()) # Parse first 5 records"
   ]
  },
  {
   "cell_type": "code",
   "execution_count": null,
   "metadata": {},
   "outputs": [],
   "source": []
  },
  {
   "cell_type": "code",
   "execution_count": null,
   "metadata": {},
   "outputs": [],
   "source": []
  }
 ],
 "metadata": {
  "kernelspec": {
   "display_name": "Python 3",
   "language": "python",
   "name": "python3"
  },
  "language_info": {
   "codemirror_mode": {
    "name": "ipython",
    "version": 3
   },
   "file_extension": ".py",
   "mimetype": "text/x-python",
   "name": "python",
   "nbconvert_exporter": "python",
   "pygments_lexer": "ipython3",
   "version": "3.10.11"
  }
 },
 "nbformat": 4,
 "nbformat_minor": 2
}
